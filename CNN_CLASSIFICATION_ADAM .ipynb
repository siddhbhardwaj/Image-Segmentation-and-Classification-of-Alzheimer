{
 "cells": [
  {
   "cell_type": "code",
   "execution_count": null,
   "id": "0e2ea5f9",
   "metadata": {},
   "outputs": [],
   "source": [
    "import os\n",
    "import numpy as np\n",
    "import pandas as pd\n",
    "from tensorflow import keras\n",
    "from tensorflow.keras.models import Model\n",
    "from tensorflow.keras.layers import Input, Conv2D, MaxPooling2D, UpSampling2D, concatenate\n",
    "from tensorflow.keras.optimizers import Adam\n",
    "from sklearn.model_selection import train_test_split\n",
    "\n"
   ]
  },
  {
   "cell_type": "code",
   "execution_count": 13,
   "id": "d646ab91",
   "metadata": {},
   "outputs": [],
   "source": [
    "\n",
    "train_dir = r'D:\\Research Work Alzheimer\\SegmentedTrain'\n",
    "valid_dir = r'D:\\Research Work Alzheimer\\SegmentedTest'\n",
    "train_path = r'D:\\Research Work Alzheimer\\SegmentedTrain'\n",
    "test_path = r'D:\\Research Work Alzheimer\\SegmentedTest'\n",
    "BATCH_SIZE = 10\n",
    "classesdefined=['MildDementedSegmented', 'ModerateDementedSegmented', 'NonDementedSegmented', 'VeryMildDementedSegmented']\n"
   ]
  },
  {
   "cell_type": "code",
   "execution_count": 14,
   "id": "0ed850ab",
   "metadata": {},
   "outputs": [],
   "source": [
    "batch_size = 32\n",
    "image_size = (208, 176)\n",
    "num_classes = 4\n",
    "max_epochs = 20\n",
    "\n",
    "epochs = 10"
   ]
  },
  {
   "cell_type": "code",
   "execution_count": 15,
   "id": "5739ce2f",
   "metadata": {},
   "outputs": [],
   "source": [
    "train_datagen = ImageDataGenerator(\n",
    "    rescale=1./255,\n",
    "    shear_range=0.2,\n",
    "    zoom_range=0.2,\n",
    "    horizontal_flip=True\n",
    ")"
   ]
  },
  {
   "cell_type": "code",
   "execution_count": 5,
   "id": "a3dd94e4",
   "metadata": {},
   "outputs": [],
   "source": [
    "valid_datagen = ImageDataGenerator(rescale=1./255)"
   ]
  },
  {
   "cell_type": "code",
   "execution_count": null,
   "id": "9a434f88",
   "metadata": {},
   "outputs": [],
   "source": []
  },
  {
   "cell_type": "code",
   "execution_count": 6,
   "id": "a055b179",
   "metadata": {},
   "outputs": [
    {
     "name": "stdout",
     "output_type": "stream",
     "text": [
      "Found 5121 images belonging to 4 classes.\n"
     ]
    }
   ],
   "source": [
    "train_generator = train_datagen.flow_from_directory(\n",
    "    train_dir,\n",
    "    target_size=image_size,\n",
    "    batch_size=batch_size,\n",
    "    class_mode='categorical',\n",
    "    color_mode='grayscale'\n",
    ")"
   ]
  },
  {
   "cell_type": "code",
   "execution_count": 7,
   "id": "52b2878a",
   "metadata": {},
   "outputs": [
    {
     "name": "stdout",
     "output_type": "stream",
     "text": [
      "Found 350 images belonging to 4 classes.\n"
     ]
    }
   ],
   "source": [
    "valid_generator = valid_datagen.flow_from_directory(\n",
    "    valid_dir,\n",
    "    target_size=image_size,\n",
    "    batch_size=batch_size,\n",
    "    class_mode='categorical',\n",
    "    color_mode='grayscale'\n",
    ")"
   ]
  },
  {
   "cell_type": "code",
   "execution_count": 8,
   "id": "13b67d26",
   "metadata": {},
   "outputs": [],
   "source": [
    "def train_model(num_epochs):\n",
    "    # Create the CNN model\n",
    "    model = keras.Sequential([\n",
    "        keras.layers.Conv2D(32, (3, 3), activation='relu', input_shape=(image_size[0], image_size[1], 1)),\n",
    "        keras.layers.MaxPooling2D((2, 2)),\n",
    "        keras.layers.Conv2D(64, (3, 3), activation='relu'),\n",
    "        keras.layers.MaxPooling2D((2, 2)),\n",
    "        keras.layers.Conv2D(128, (3, 3), activation='relu'),\n",
    "        keras.layers.MaxPooling2D((2, 2)),\n",
    "        keras.layers.Flatten(),\n",
    "        keras.layers.Dense(128, activation='relu'),\n",
    "        keras.layers.Dense(num_classes, activation='softmax')\n",
    "    ])\n",
    "    model.compile(optimizer='adam',\n",
    "                  loss='categorical_crossentropy',\n",
    "                  metrics=['accuracy'])\n",
    "\n",
    "    # Train the model\n",
    "    history = model.fit(\n",
    "        train_generator,\n",
    "        steps_per_epoch=train_generator.n // batch_size,\n",
    "        epochs=num_epochs,\n",
    "        validation_data=valid_generator,\n",
    "        validation_steps=valid_generator.n // batch_size,\n",
    "        verbose=0  # Set verbose to 1 to see training progress per epoch\n",
    "    )\n",
    "    \n",
    "    return history"
   ]
  },
  {
   "cell_type": "code",
   "execution_count": 9,
   "id": "4f055560",
   "metadata": {},
   "outputs": [
    {
     "name": "stdout",
     "output_type": "stream",
     "text": [
      "Training model for 1 epochs...\n",
      "Training model for 2 epochs...\n",
      "Training model for 3 epochs...\n",
      "Training model for 4 epochs...\n",
      "Training model for 5 epochs...\n",
      "Training model for 6 epochs...\n",
      "Training model for 7 epochs...\n",
      "Training model for 8 epochs...\n",
      "Training model for 9 epochs...\n",
      "Training model for 10 epochs...\n",
      "Training model for 11 epochs...\n",
      "Training model for 12 epochs...\n",
      "Training model for 13 epochs...\n",
      "Training model for 14 epochs...\n",
      "Training model for 15 epochs...\n",
      "Training model for 16 epochs...\n",
      "Training model for 17 epochs...\n",
      "Training model for 18 epochs...\n",
      "Training model for 19 epochs...\n",
      "Training model for 20 epochs...\n"
     ]
    }
   ],
   "source": [
    "results = []\n",
    "for epoch in range(1, max_epochs + 1):\n",
    "    print(f'Training model for {epoch} epochs...')\n",
    "    history = train_model(epoch)\n",
    "    accuracy = history.history['val_accuracy'][-1]  # Get the last validation accuracy\n",
    "    results.append((epoch, accuracy))\n",
    "\n",
    "# Create a pandas DataFrame to store the results\n",
    "results_df = pd.DataFrame(results, columns=['Epochs', 'Accuracy'])\n",
    "\n",
    "# Print the results table\n",
    "print(results_df)"
   ]
  },
  {
   "cell_type": "code",
   "execution_count": 12,
   "id": "5fda6c75",
   "metadata": {},
   "outputs": [
    {
     "name": "stdout",
     "output_type": "stream",
     "text": [
      "    Epochs  Accuracy\n",
      "0        1  0.378125\n",
      "1        2  0.387500\n",
      "2        3  0.468750\n",
      "3        4  0.456250\n",
      "4        5  0.537500\n",
      "5        6  0.512500\n",
      "6        7  0.553125\n",
      "7        8  0.656250\n",
      "8        9  0.703125\n",
      "9       10  0.709375\n",
      "10      11  0.725000\n",
      "11      12  0.775000\n",
      "12      13  0.825000\n",
      "13      14  0.831250\n",
      "14      15  0.859375\n",
      "15      16  0.890625\n",
      "16      17  0.843750\n",
      "17      18  0.837500\n",
      "18      19  0.921875\n",
      "19      20  0.928125\n"
     ]
    }
   ],
   "source": [
    "# Create a pandas DataFrame to store the results\n",
    "results_df = pd.DataFrame(results, columns=['Epochs', 'Accuracy'])\n",
    "\n",
    "# Print the results table\n",
    "print(results_df)"
   ]
  },
  {
   "cell_type": "code",
   "execution_count": null,
   "id": "36ab8b50",
   "metadata": {},
   "outputs": [],
   "source": []
  }
 ],
 "metadata": {
  "kernelspec": {
   "display_name": "Python 3 (ipykernel)",
   "language": "python",
   "name": "python3"
  },
  "language_info": {
   "codemirror_mode": {
    "name": "ipython",
    "version": 3
   },
   "file_extension": ".py",
   "mimetype": "text/x-python",
   "name": "python",
   "nbconvert_exporter": "python",
   "pygments_lexer": "ipython3",
   "version": "3.10.5"
  }
 },
 "nbformat": 4,
 "nbformat_minor": 5
}
